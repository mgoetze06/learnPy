{
 "cells": [
  {
   "cell_type": "code",
   "execution_count": 12,
   "id": "cf24d52e-9e57-43e5-93bc-f4736faed3db",
   "metadata": {},
   "outputs": [],
   "source": [
    "import cv2\n",
    "import random\n",
    "import glob\n",
    "import numpy as np"
   ]
  },
  {
   "cell_type": "code",
   "execution_count": 8,
   "id": "fdf62ca7-37d5-4b47-b94a-3a2eacb48be7",
   "metadata": {},
   "outputs": [],
   "source": [
    "img1 =cv2.resize(cv2.imread(\"img1.jpeg\"),(500,500))\n",
    "img2 =cv2.resize(cv2.imread(\"img2.jpeg\"),(500,500))"
   ]
  },
  {
   "cell_type": "code",
   "execution_count": 9,
   "id": "1a3a1489-1557-4844-9e7d-044d08cb48a3",
   "metadata": {},
   "outputs": [
    {
     "data": {
      "text/plain": [
       "True"
      ]
     },
     "execution_count": 9,
     "metadata": {},
     "output_type": "execute_result"
    }
   ],
   "source": [
    "combine = cv2.vconcat([img1,img2])\n",
    "combine = cv2.hconcat([\n",
    "    combine,cv2.resize(img1,(500,1000))])\n",
    "cv2.imwrite('combined.jpg',combine)"
   ]
  },
  {
   "cell_type": "code",
   "execution_count": 20,
   "id": "b469d687-cce1-4143-9e5e-b1af8874daf6",
   "metadata": {},
   "outputs": [
    {
     "name": "stdout",
     "output_type": "stream",
     "text": [
      "(428, 1000, 3)\n",
      "(424, 510, 3)\n"
     ]
    }
   ],
   "source": [
    "img1 = cv2.imread(\"img1.jpeg\")\n",
    "img2 = cv2.imread(\"img2.jpeg\")\n",
    "print(img1.shape)\n",
    "print(img2.shape)"
   ]
  },
  {
   "cell_type": "code",
   "execution_count": 21,
   "id": "58a61982-3886-4044-9173-7946e13f7a80",
   "metadata": {},
   "outputs": [
    {
     "name": "stdout",
     "output_type": "stream",
     "text": [
      "(500, 1168, 3)\n",
      "(500, 601, 3)\n"
     ]
    }
   ],
   "source": [
    "height = 500\n",
    "img1 = cv2.resize(img1,(int((height/img1.shape[0])*img1.shape[1]),height))\n",
    "img2 = cv2.resize(img2,(int((height/img2.shape[0])*img2.shape[1]),height))\n",
    "print(img1.shape)\n",
    "print(img2.shape)\n",
    "collage = cv2.hconcat([img1,img2])"
   ]
  },
  {
   "cell_type": "code",
   "execution_count": 9,
   "id": "d1578a05-d725-443a-a0db-c98530f7259e",
   "metadata": {},
   "outputs": [],
   "source": [
    "cv2.imshow(\"collage\",img)\n",
    "cv2.waitKey(0)\n",
    "cv2.destroyAllWindows()"
   ]
  },
  {
   "cell_type": "code",
   "execution_count": 6,
   "id": "714c3a59-1fd0-41e8-997b-0dcdfc678f22",
   "metadata": {},
   "outputs": [],
   "source": [
    "collage_width = 1920*3\n",
    "collage_height = 1080*3"
   ]
  },
  {
   "cell_type": "code",
   "execution_count": 77,
   "id": "253d9bbe-2333-4884-b640-d21e0bc5f8a9",
   "metadata": {},
   "outputs": [
    {
     "name": "stdout",
     "output_type": "stream",
     "text": [
      "['data\\\\5.jpg', 'data\\\\2.jpg', 'data\\\\8.jpg', 'data\\\\7.jpg', 'data\\\\6.jpg', 'data\\\\3.jpg']\n"
     ]
    }
   ],
   "source": [
    "images = glob.glob(\"data/*JPG\")\n",
    "batch = random.sample(images, random.randint(3,8))\n",
    "print(batch)"
   ]
  },
  {
   "cell_type": "code",
   "execution_count": 84,
   "id": "ccde9b48-ea0c-4607-a12a-dca76253ce09",
   "metadata": {},
   "outputs": [
    {
     "name": "stdout",
     "output_type": "stream",
     "text": [
      "7\n",
      "['data\\\\2.jpg', 'data\\\\3.jpg', 'data\\\\5.jpg', 'data\\\\8.jpg', 'data\\\\1.jpg', 'data\\\\4.jpg', 'data\\\\7.jpg']\n",
      "7\n",
      "['data\\\\2.jpg', 'data\\\\7.jpg', 'data\\\\4.jpg', 'data\\\\8.jpg', 'data\\\\5.jpg', 'data\\\\3.jpg', 'data\\\\1.jpg']\n",
      "3\n",
      "['data\\\\3.jpg', 'data\\\\7.jpg', 'data\\\\2.jpg']\n",
      "4\n",
      "['data\\\\2.jpg', 'data\\\\8.jpg', 'data\\\\6.jpg', 'data\\\\5.jpg']\n",
      "3\n",
      "['data\\\\6.jpg', 'data\\\\3.jpg', 'data\\\\7.jpg']\n"
     ]
    }
   ],
   "source": [
    "row_height = collage_height // 4\n",
    "images = glob.glob(\"data/*JPG\")\n",
    "collage = None\n",
    "for row in range(5):\n",
    "    collage_row = None\n",
    "    batch = random.sample(images, random.randint(3,8))\n",
    "    print(len(batch))\n",
    "    print(batch)\n",
    "    for img in batch:\n",
    "        img = cv2.imread(img)\n",
    "        img = cv2.resize(img,(int((row_height/img.shape[0])*img.shape[1]),row_height))\n",
    "        if collage_row is None:\n",
    "            collage_row = np.copy(img)\n",
    "        else:\n",
    "            collage_row = cv2.hconcat([collage_row,img])\n",
    "    if collage is None:\n",
    "        collage = np.copy(collage_row)\n",
    "    else:\n",
    "        width = collage.shape[1]\n",
    "        collage_row = cv2.resize(collage_row,(width,int((width/collage_row.shape[1])*collage_row.shape[0])))\n",
    "        collage = cv2.vconcat([collage,collage_row])\n",
    "    \n",
    "cv2.imwrite(\"collage.jpg\",collage)\n",
    "showCollage(collage,resize=True)\n"
   ]
  },
  {
   "cell_type": "code",
   "execution_count": 39,
   "id": "f1712516-ab07-4a78-9c77-0dad456a3900",
   "metadata": {},
   "outputs": [],
   "source": [
    "def showCollage(img,resize=True,showcv2=True):\n",
    "    showimg = np.copy(img)\n",
    "    if resize:\n",
    "        width = 1600\n",
    "        showimg = cv2.resize(img,(width,int((width/img.shape[1])*img.shape[0])))\n",
    "        #showimg = cv2.resize(showimg,(1080,720))\n",
    "    if showcv2:    \n",
    "        cv2.imshow(\"img\",showimg)\n",
    "        cv2.waitKey(0)\n",
    "        cv2.destroyAllWindows()"
   ]
  },
  {
   "cell_type": "code",
   "execution_count": null,
   "id": "72a2c96c-3087-446d-9ff4-77246406778b",
   "metadata": {},
   "outputs": [],
   "source": []
  }
 ],
 "metadata": {
  "kernelspec": {
   "display_name": "Python 3 (ipykernel)",
   "language": "python",
   "name": "python3"
  },
  "language_info": {
   "codemirror_mode": {
    "name": "ipython",
    "version": 3
   },
   "file_extension": ".py",
   "mimetype": "text/x-python",
   "name": "python",
   "nbconvert_exporter": "python",
   "pygments_lexer": "ipython3",
   "version": "3.10.8"
  }
 },
 "nbformat": 4,
 "nbformat_minor": 5
}
