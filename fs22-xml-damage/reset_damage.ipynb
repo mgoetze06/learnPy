{
 "cells": [
  {
   "cell_type": "code",
   "execution_count": null,
   "id": "5040c90c-7200-41d0-a71e-5ef5d9d6cd06",
   "metadata": {},
   "outputs": [],
   "source": [
    "# importing the module.\n",
    "import xml.etree.ElementTree as ET\n",
    "\n",
    "# parsing directly.\n",
    "tree = ET.parse('vehicles.xml')\n",
    "root = tree.getroot()\n",
    "# parsing using the string.\n",
    "\n",
    "# printing the root.\n",
    "print(root)\n"
   ]
  },
  {
   "cell_type": "code",
   "execution_count": null,
   "id": "a62bf460",
   "metadata": {},
   "outputs": [],
   "source": [
    "all_vehicles = root.findall(\"vehicle\")\n",
    "for v in all_vehicles:\n",
    "    wear = v.find(\"wearable\")\n",
    "    if wear:\n",
    "        print(wear.get(\"damage\"))\n",
    "        wear.set(\"damage\", 0.000)\n"
   ]
  },
  {
   "cell_type": "code",
   "execution_count": null,
   "id": "6f5a4f54",
   "metadata": {},
   "outputs": [],
   "source": [
    "tree.write('vehicles.xml')"
   ]
  },
  {
   "cell_type": "code",
   "execution_count": null,
   "id": "e463e679",
   "metadata": {},
   "outputs": [],
   "source": []
  }
 ],
 "metadata": {
  "kernelspec": {
   "display_name": "Python 3 (ipykernel)",
   "language": "python",
   "name": "python3"
  },
  "language_info": {
   "codemirror_mode": {
    "name": "ipython",
    "version": 3
   },
   "file_extension": ".py",
   "mimetype": "text/x-python",
   "name": "python",
   "nbconvert_exporter": "python",
   "pygments_lexer": "ipython3",
   "version": "3.10.8"
  }
 },
 "nbformat": 4,
 "nbformat_minor": 5
}
