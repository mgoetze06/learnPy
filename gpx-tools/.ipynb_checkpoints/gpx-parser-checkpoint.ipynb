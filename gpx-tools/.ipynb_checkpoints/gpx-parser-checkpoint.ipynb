{
 "cells": [
  {
   "cell_type": "markdown",
   "id": "a0c669f2-ce35-405b-9d45-a1e4f8e15a73",
   "metadata": {},
   "source": [
    "# gpx parser"
   ]
  },
  {
   "cell_type": "code",
   "execution_count": 2,
   "id": "6f99496c-c803-4d88-8d51-e1814eb04ea7",
   "metadata": {},
   "outputs": [],
   "source": [
    "import gpxpy\n",
    "import gpxpy.gpx"
   ]
  },
  {
   "cell_type": "code",
   "execution_count": 30,
   "id": "05b3abd3-0044-45ea-b866-9fda09d7c61f",
   "metadata": {},
   "outputs": [],
   "source": [
    "# Parsing an existing file:\n",
    "# -------------------------\n",
    "\n",
    "gpx_file = open('test.gpx', 'r')\n",
    "\n",
    "gpx = gpxpy.parse(gpx_file, version=\"1.0\")\n"
   ]
  },
  {
   "cell_type": "code",
   "execution_count": 61,
   "id": "bbcd8c15-03ed-4290-9331-e4ed1a88863b",
   "metadata": {},
   "outputs": [
    {
     "name": "stdout",
     "output_type": "stream",
     "text": [
      "Point at (47.4504,12.3352) -> 811.0999755859375\n",
      "Point at (47.4501,12.3354) -> 808.5999755859375\n",
      "Point at (47.4499,12.3355) -> 809.2000122070312\n",
      "Point at (47.4497,12.3356) -> 812.5999755859375\n",
      "Point at (47.4495,12.3358) -> 816.4000244140625\n",
      "Point at (47.4493,12.3359) -> 819.4000244140625\n",
      "Point at (47.4492,12.336) -> 820.7000122070312\n",
      "Point at (47.449,12.3362) -> 820.9000244140625\n",
      "Point at (47.4489,12.3363) -> 822.0\n",
      "Point at (47.4487,12.3364) -> 824.7999877929688\n"
     ]
    }
   ],
   "source": [
    "for track in gpx.tracks:\n",
    "    for segment in track.segments:\n",
    "        for idx,point in enumerate(segment.points):\n",
    "            #print(point.time)\n",
    "            #print(idx)\n",
    "            if idx < 10:\n",
    "                print('Point at ({0},{1}) -> {2}'.format(point.latitude, point.longitude, point.elevation));\n"
   ]
  },
  {
   "cell_type": "code",
   "execution_count": 31,
   "id": "8abcb128-6f1a-4a01-b050-2b8bba1f94ff",
   "metadata": {},
   "outputs": [
    {
     "name": "stdout",
     "output_type": "stream",
     "text": [
      "[trkpt:47.4504,12.3352@811.0999755859375@2023-01-01 07:34:19+00:00]\n",
      "[trkpt:47.4501,12.3354@808.5999755859375@2023-01-01 07:34:57+00:00]\n"
     ]
    }
   ],
   "source": [
    "p0 = gpx.tracks[0].segments[0].points[0]\n",
    "p1 = gpx.tracks[0].segments[0].points[1]\n",
    "print(p0)\n",
    "print(p1)"
   ]
  },
  {
   "cell_type": "code",
   "execution_count": 35,
   "id": "d9be562f-4e8c-4e62-a081-95b6f916af03",
   "metadata": {},
   "outputs": [
    {
     "name": "stdout",
     "output_type": "stream",
     "text": [
      "MovingData(moving_time=13491.0, stopped_time=5545.0, moving_distance=69257.70288075981, stopped_distance=237.0913580280757, max_speed=22.706002111137018)\n"
     ]
    }
   ],
   "source": [
    "moving_data = gpx.get_moving_data(raw=True)\n",
    "print(moving_data)"
   ]
  },
  {
   "cell_type": "code",
   "execution_count": 75,
   "id": "dc11ba0f-b6d3-49d5-912a-64135810741e",
   "metadata": {},
   "outputs": [
    {
     "name": "stdout",
     "output_type": "stream",
     "text": [
      "0\n"
     ]
    }
   ],
   "source": [
    "from gpxplotter import read_gpx_file, create_folium_map, add_segment_to_map\n",
    "\n",
    "# Define some properties for drawing the line:\n",
    "line_options_up = {'color': 'red', 'weight': 3, 'opacity': 0.4}\n",
    "line_options_down = {'color': 'green', 'weight': 6, 'opacity': 0.7}\n",
    "\n",
    "#the_map = create_folium_map(tiles='kartverket_topo4')\n",
    "the_map = create_folium_map(tiles='stamenterrain')\n",
    "\n",
    "for track in read_gpx_file('test.gpx'):\n",
    "    for i, segment in enumerate(track['segments']):\n",
    "        print(i)\n",
    "        if elev_diff[i] < 0:\n",
    "            add_segment_to_map(the_map, segment, line_options=line_options_up)\n",
    "        else:\n",
    "            add_segment_to_map(the_map, segment, line_options=line_options_down)\n",
    "\n",
    "# To store the map as a HTML page:\n",
    "# the_map.save('map_000.html')\n",
    "\n",
    "# To display the map in a Jupyter notebook:\n",
    "the_map\n",
    "the_map.save('map_000.html')"
   ]
  },
  {
   "cell_type": "code",
   "execution_count": 72,
   "id": "2336bc95-5b02-440a-9a34-02a7b0f68b54",
   "metadata": {},
   "outputs": [],
   "source": [
    "\n",
    "def calc_elevation_difference():\n",
    "    #up or down\n",
    "    points = gpx.tracks[0].segments[0].points\n",
    "    print(len(points))\n",
    "    total = len(points)\n",
    "    elev_diff.append(0)\n",
    "    for idp,p in enumerate(points):\n",
    "        diff = p.elevation - points[idp-1].elevation\n",
    "        if idp < 10:\n",
    "            print(p)\n",
    "            print(diff)\n",
    "        if idp > 0 and idp < total:\n",
    "            elev_diff.append(diff)\n",
    "            #elev_diff \n",
    "         "
   ]
  },
  {
   "cell_type": "code",
   "execution_count": 73,
   "id": "8e9dd469-cbe5-4903-9006-c8b57063fb00",
   "metadata": {},
   "outputs": [
    {
     "name": "stdout",
     "output_type": "stream",
     "text": [
      "2699\n",
      "[trkpt:47.4504,12.3352@811.0999755859375@2023-01-01 07:34:19+00:00]\n",
      "14.0\n",
      "[trkpt:47.4501,12.3354@808.5999755859375@2023-01-01 07:34:57+00:00]\n",
      "-2.5\n",
      "[trkpt:47.4499,12.3355@809.2000122070312@2023-01-01 07:35:01+00:00]\n",
      "0.60003662109375\n",
      "[trkpt:47.4497,12.3356@812.5999755859375@2023-01-01 07:35:06+00:00]\n",
      "3.39996337890625\n",
      "[trkpt:47.4495,12.3358@816.4000244140625@2023-01-01 07:35:10+00:00]\n",
      "3.800048828125\n",
      "[trkpt:47.4493,12.3359@819.4000244140625@2023-01-01 07:35:14+00:00]\n",
      "3.0\n",
      "[trkpt:47.4492,12.336@820.7000122070312@2023-01-01 07:35:18+00:00]\n",
      "1.29998779296875\n",
      "[trkpt:47.449,12.3362@820.9000244140625@2023-01-01 07:35:22+00:00]\n",
      "0.20001220703125\n",
      "[trkpt:47.4489,12.3363@822.0@2023-01-01 07:35:26+00:00]\n",
      "1.0999755859375\n",
      "[trkpt:47.4487,12.3364@824.7999877929688@2023-01-01 07:35:30+00:00]\n",
      "2.79998779296875\n",
      "2699\n"
     ]
    }
   ],
   "source": [
    "#https://stackoverflow.com/questions/45840118/how-do-i-calculate-speed-from-a-gpx-file-if-the-speed-tag-itself-is-not-given\n",
    "elev_diff = []\n",
    "calc_elevation_difference()\n",
    "#print(elev_diff)\n",
    "print(len(elev_diff))"
   ]
  },
  {
   "cell_type": "code",
   "execution_count": null,
   "id": "c258fc7d-ae63-463f-a1e6-3142c5f97cdb",
   "metadata": {},
   "outputs": [],
   "source": []
  }
 ],
 "metadata": {
  "kernelspec": {
   "display_name": "Python 3 (ipykernel)",
   "language": "python",
   "name": "python3"
  },
  "language_info": {
   "codemirror_mode": {
    "name": "ipython",
    "version": 3
   },
   "file_extension": ".py",
   "mimetype": "text/x-python",
   "name": "python",
   "nbconvert_exporter": "python",
   "pygments_lexer": "ipython3",
   "version": "3.10.6"
  }
 },
 "nbformat": 4,
 "nbformat_minor": 5
}
